{
  "nbformat": 4,
  "nbformat_minor": 0,
  "metadata": {
    "colab": {
      "name": "IMS.ipynb",
      "provenance": []
    },
    "kernelspec": {
      "name": "python3",
      "display_name": "Python 3"
    },
    "language_info": {
      "name": "python"
    }
  },
  "cells": [
    {
      "cell_type": "code",
      "metadata": {
        "id": "MbCe5JOiHZyo"
      },
      "source": [
        "IMS(Inventory Management System)\n",
        "fd = open(\"Records.txt\",\"r\")\n",
        "txt = fd.read()\n",
        "fd.close()\n",
        "In [83]:\n",
        "products = txt.split(\"\\n\")\n",
        "\n",
        "ui_prod  = str(input(\"Enter the product_Id: \"))\n",
        "ui_quant = input(\"Enter the quantity: \")\n",
        "\n",
        "for product in products:\n",
        "    prod = product.split(\",\")\n",
        "    \n",
        "    \n",
        "    if(prod[0] == ui_prod):\n",
        "        print(\"***********************\")\n",
        "        print(\"Product ID: \", prod[0])\n",
        "        print(\"Name: \", prod[1])\n",
        "        print(\"Price: \",prod[2])\n",
        "        print(\"Quant: \",ui_quant)\n",
        "        print(\"------------------------\")\n",
        "        print(\"Billing Amout: \", ui_quant * int(prod[2]))\n",
        "        print(\"***********************\")\n",
        "Enter the product_Id: 1002\n",
        "Enter the quantity: 3\n",
        "***********************\n",
        "('Product ID: ', '1002')\n",
        "('Name: ', 'Cake')\n",
        "('Price: ', '300')\n",
        "('Quant: ', 3)\n",
        "------------------------\n",
        "('Billing Amout: ', 900)\n",
        "***********************\n",
        "In [85]:\n",
        "new_record = []\n",
        "\n",
        "for product in products:\n",
        "    prod = product.split(\",\")\n",
        "    if(ui_prod == prod[0]):\n",
        "        prod[3] = str(int(prod[3]) - ui_quant)\n",
        "        \n",
        "    new_record.append(prod[0] + \",\" + prod[1] + \",\" + prod[2] + \",\" + prod[3] + \"\\n\")\n",
        "    \n",
        "new_record[-1] = new_record[-1][:-1]\n",
        "In [87]:\n",
        "fd = open(\"Records.txt\", 'w')\n",
        "\n",
        "for i in new_record:\n",
        "    fd.write(i)\n",
        "    \n",
        "fd.close()"
      ],
      "execution_count": null,
      "outputs": []
    },
    {
      "cell_type": "code",
      "metadata": {
        "id": "uqECGr4rbKG3"
      },
      "source": [
        ""
      ],
      "execution_count": null,
      "outputs": []
    }
  ]
}